{
 "cells": [
  {
   "cell_type": "code",
   "execution_count": 3,
   "metadata": {
    "collapsed": true
   },
   "outputs": [],
   "source": [
    "import torch"
   ]
  },
  {
   "cell_type": "code",
   "execution_count": 4,
   "outputs": [
    {
     "name": "stdout",
     "output_type": "stream",
     "text": [
      "torch version: 1.10.2\n",
      "Using cuda now!\n",
      "There are 8 GPUs in total.\n",
      "The first GPU is: _CudaDeviceProperties(name='Tesla V100-SXM2-32GB', major=7, minor=0, total_memory=32510MB, multi_processor_count=80)\n",
      "CUDA version: 11.3\n",
      "cudnn version: 8200\n"
     ]
    }
   ],
   "source": [
    "print(f\"torch version: {torch.__version__}\")\n",
    "use_cuda = torch.cuda.is_available()\n",
    "device = torch.device(\"cuda\" if use_cuda else \"cpu\")\n",
    "print(f\"Using {device} now!\")\n",
    "gpu_info = torch.cuda.get_device_properties(0)\n",
    "print(f\"There are {torch.cuda.device_count()} GPUs in total.\\nThe first GPU is: {gpu_info}\")\n",
    "if use_cuda:\n",
    "    if '3060' in gpu_info.name:\n",
    "        print(f\"CUDA version: {torch.cuda_version}\")\n",
    "    else:\n",
    "        print(f\"CUDA version: {torch.version.cuda}\")\n",
    "    from torch.backends import cudnn\n",
    "    print(f\"cudnn version: {cudnn.version()}\")"
   ],
   "metadata": {
    "collapsed": false,
    "pycharm": {
     "name": "#%%\n"
    }
   }
  },
  {
   "cell_type": "code",
   "execution_count": 21,
   "outputs": [],
   "source": [
    "import os\n",
    "from scipy.io import loadmat\n",
    "import h5py\n",
    "\n",
    "ROOT = '/home/wangyh/02-Datasets/Z-NLOS'\n",
    "# PATH = os.path.join(ROOT, os.listdir(ROOT)[0])\n",
    "PATH = '/home/wangyh/02-Datasets/NeTF/data/zaragozadataset/zaragoza256_preprocessed.mat'"
   ],
   "metadata": {
    "collapsed": false,
    "pycharm": {
     "name": "#%%\n"
    }
   }
  },
  {
   "cell_type": "code",
   "execution_count": 22,
   "outputs": [
    {
     "name": "stdout",
     "output_type": "stream",
     "text": [
      "cameraGridPoints (2, 1)\n",
      "cameraGridPositions (3, 65536)\n",
      "cameraGridSize (2, 1)\n",
      "cameraPosition (1, 3)\n",
      "data (512, 256, 256)\n",
      "deltaT (1, 1)\n",
      "hiddenVolumePosition (3, 1)\n",
      "hiddenVolumeSize (1, 1)\n"
     ]
    }
   ],
   "source": [
    "# file = h5py.File(PATH, mode='r')\n",
    "file = loadmat(PATH)\n",
    "for key in file.keys():\n",
    "    if not key.endswith(\"__\"):\n",
    "        print(key, file[key].shape)"
   ],
   "metadata": {
    "collapsed": false,
    "pycharm": {
     "name": "#%%\n"
    }
   }
  },
  {
   "cell_type": "code",
   "execution_count": 27,
   "outputs": [
    {
     "data": {
      "text/plain": "array([[0.003]], dtype=float32)"
     },
     "execution_count": 27,
     "metadata": {},
     "output_type": "execute_result"
    }
   ],
   "source": [
    "file[\"deltaT\"]"
   ],
   "metadata": {
    "collapsed": false,
    "pycharm": {
     "name": "#%%\n"
    }
   }
  }
 ],
 "metadata": {
  "kernelspec": {
   "display_name": "Python 3",
   "language": "python",
   "name": "python3"
  },
  "language_info": {
   "codemirror_mode": {
    "name": "ipython",
    "version": 2
   },
   "file_extension": ".py",
   "mimetype": "text/x-python",
   "name": "python",
   "nbconvert_exporter": "python",
   "pygments_lexer": "ipython2",
   "version": "2.7.6"
  }
 },
 "nbformat": 4,
 "nbformat_minor": 0
}